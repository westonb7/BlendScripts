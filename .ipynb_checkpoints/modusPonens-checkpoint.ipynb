{
 "cells": [
  {
   "cell_type": "code",
   "execution_count": 24,
   "metadata": {},
   "outputs": [],
   "source": [
    "# Import libraries\n",
    "\n",
    "import matplotlib.path as mpath\n",
    "import matplotlib.pyplot as plt\n",
    "\n",
    "import math"
   ]
  },
  {
   "cell_type": "code",
   "execution_count": 61,
   "metadata": {},
   "outputs": [],
   "source": [
    "def relationR(setA, setB):\n",
    "    \"\"\"\n",
    "    Equation taken from 10.5 (Introduction to Fuzzy Logic)\n",
    "    Used for finding the relation between two fuzzy sets.\n",
    "    \n",
    "    Takes two lists as parameters, returns a 2D tuple\n",
    "    with relation values for the two sets.\n",
    "    \"\"\"\n",
    "    out = tuple([0 for i in range(len(setB))] for j in range(len(setA)))\n",
    "    for i in range(len(setA)):\n",
    "        for j in range(len(setB)):\n",
    "            if setA[i] <= setB[j]:\n",
    "                out[i][j] = 1 \n",
    "            else:\n",
    "                out[i][j] = 0\n",
    "    return out\n",
    "\n",
    "def relationT(setA, setB):\n",
    "    \"\"\"\n",
    "    Equation taken from 11.5 (Introduction to Fuzzy Logic)\n",
    "    Used for finding the relation between two fuzzy sets.\n",
    "    \n",
    "    Takes two lists as parameters, returns a 2D tuple\n",
    "    with relation (Rt) values for the two sets. The transpose\n",
    "    of the set returned from the previous function relationR().\n",
    "    \"\"\"\n",
    "    out = tuple([0 for i in range(len(setA))] for j in range(len(setB)))\n",
    "    for i in range(len(setA)):\n",
    "        for j in range(len(setB)):\n",
    "            if setA[i] <= setB[j]:\n",
    "                out[j][i] = 1 \n",
    "            else:\n",
    "                out[j][i] = 0\n",
    "    return out\n",
    "\n",
    "def relationPrime(setA, setB, setPrime=None):\n",
    "    \"\"\"\n",
    "    Equation taken from 10.6 (Introduction to Fuzzy Logic)\n",
    "    Used for finding the relation between two fuzzy sets.\n",
    "    \n",
    "    Takes two lists as parameters, returns a 2D array\n",
    "    with B' values for the two sets.\n",
    "    \n",
    "    This function can also take sets A, B and A', and calculate \n",
    "    fuzzy set B' using optional parameter setPrime. If \n",
    "    setPrime is unused, B' will be calculated from setA.\n",
    "    \n",
    "    This function calculates fuzzy set B', and returns it as a list.\n",
    "    \"\"\"\n",
    "    bPrime = []\n",
    "    out = [0.0 for i in range(len(setA))]\n",
    "    if setPrime != None and len(setPrime) != len(setA):\n",
    "        print(\"Set A and set A' must be of equal lengths\")\n",
    "        return 0\n",
    "    for j in range(len(setB)):\n",
    "        for i in range(len(setA)):\n",
    "            if setA[i] <= setB[j] and setPrime == None:\n",
    "                out[i] = min(setA[i], 1)\n",
    "            elif setA[i] <= setB[j] and setPrime != None:\n",
    "                out[i] = min(setPrime[i], 1)\n",
    "            else:\n",
    "                out[i] = 0.0\n",
    "        bPrime.append(max(out))\n",
    "    return bPrime\n",
    "\n",
    "def veryHedge(setA):\n",
    "    \"\"\"\n",
    "    Equation taken from 10.11.\n",
    "    \n",
    "    Takes a list as a parameter (a fuzzy set), \n",
    "    and returns the \"very\" hedged version of that set.\n",
    "    \n",
    "    I'm including this function in this script just to group \n",
    "    the chapter 10 equations together.\n",
    "    \"\"\"\n",
    "    out = []\n",
    "    for i in range(len(setA)):\n",
    "        out.append(round(setA[i]**2, 4)) #Round to 4 significant figures\n",
    "    return out\n",
    "\n",
    "def somewhatHedge(setA):\n",
    "    \"\"\"\n",
    "    Equation taken from 10.12.\n",
    "    \n",
    "    Takes a list as a parameter (a fuzzy set), \n",
    "    and returns the \"somewhat\" hedged version of that set.\n",
    "    \"\"\"\n",
    "    out = []\n",
    "    for i in range(len(setA)):\n",
    "        out.append(math.sqrt(setA[i]))\n",
    "    return out"
   ]
  },
  {
   "cell_type": "code",
   "execution_count": 38,
   "metadata": {},
   "outputs": [
    {
     "name": "stdout",
     "output_type": "stream",
     "text": [
      "([0, 0, 0, 0, 0, 0, 0], [0, 0, 0, 0, 0, 0, 0], [0, 0, 0, 0, 0, 0, 0], [0, 0, 0, 0, 0, 0, 0], [0, 0, 0, 0, 0, 0, 0], [0, 0, 0, 0, 0, 0, 0])\n",
      "0\n",
      "([1, 1, 1, 1, 1, 1, 1], [0, 0, 1, 1, 1, 1, 1], [0, 0, 0, 1, 1, 1, 1], [0, 0, 0, 0, 1, 1, 1], [0, 0, 0, 0, 0, 1, 1], [0, 0, 0, 0, 0, 0, 1])\n"
     ]
    }
   ],
   "source": [
    "# Testing relationR function\n",
    "\n",
    "setA = [0, 0.2, 0.4, 0.6, 0.8, 1.0]\n",
    "setB = [0, 0, 0.2, 0.4, 0.6, 0.8, 1.0]\n",
    "\n",
    "modP = relationR(setA, setB)\n",
    "print(modP)"
   ]
  },
  {
   "cell_type": "code",
   "execution_count": 63,
   "metadata": {},
   "outputs": [
    {
     "name": "stdout",
     "output_type": "stream",
     "text": [
      "[0, 0, 0.2, 0.4, 0.6, 0.8, 1.0]\n",
      "[0, 0, 0.2, 0.4, 0.6, 0.8, 1.0]\n"
     ]
    }
   ],
   "source": [
    "setBPrime = relationPrime(setA, setB)\n",
    "print(setBPrime)\n"
   ]
  },
  {
   "cell_type": "code",
   "execution_count": 31,
   "metadata": {},
   "outputs": [
    {
     "name": "stdout",
     "output_type": "stream",
     "text": [
      "[0, 0.04, 0.16, 0.36, 0.64, 1.0]\n"
     ]
    }
   ],
   "source": [
    "veryA = veryHedge(setA)\n",
    "print(veryA)"
   ]
  },
  {
   "cell_type": "code",
   "execution_count": 32,
   "metadata": {},
   "outputs": [
    {
     "name": "stdout",
     "output_type": "stream",
     "text": [
      "[0.0, 0.4472135954999579, 0.6324555320336759, 0.7745966692414834, 0.8944271909999159, 1.0]\n"
     ]
    }
   ],
   "source": [
    "somewhatA = somewhatHedge(setA)\n",
    "print(somewhatA)"
   ]
  },
  {
   "cell_type": "code",
   "execution_count": 64,
   "metadata": {},
   "outputs": [
    {
     "name": "stdout",
     "output_type": "stream",
     "text": [
      "[0, 0, 0.04, 0.16, 0.36, 0.64, 1.0]\n"
     ]
    }
   ],
   "source": [
    "veryTest = relationPrime(setA, setB, veryA)\n",
    "print(veryTest)"
   ]
  },
  {
   "cell_type": "code",
   "execution_count": 36,
   "metadata": {},
   "outputs": [
    {
     "name": "stdout",
     "output_type": "stream",
     "text": [
      "([1, 0, 0, 0, 0, 0], [1, 0, 0, 0, 0, 0], [1, 1, 0, 0, 0, 0], [1, 1, 1, 0, 0, 0], [1, 1, 1, 1, 0, 0], [1, 1, 1, 1, 1, 0], [1, 1, 1, 1, 1, 1])\n"
     ]
    }
   ],
   "source": [
    "modT = relationT(setA, setB)\n",
    "print(modT)"
   ]
  },
  {
   "cell_type": "code",
   "execution_count": null,
   "metadata": {},
   "outputs": [],
   "source": []
  },
  {
   "cell_type": "code",
   "execution_count": null,
   "metadata": {},
   "outputs": [],
   "source": []
  }
 ],
 "metadata": {
  "kernelspec": {
   "display_name": "Python 3",
   "language": "python",
   "name": "python3"
  },
  "language_info": {
   "codemirror_mode": {
    "name": "ipython",
    "version": 3
   },
   "file_extension": ".py",
   "mimetype": "text/x-python",
   "name": "python",
   "nbconvert_exporter": "python",
   "pygments_lexer": "ipython3",
   "version": "3.6.4"
  }
 },
 "nbformat": 4,
 "nbformat_minor": 2
}

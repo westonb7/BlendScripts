{
 "cells": [
  {
   "cell_type": "code",
   "execution_count": 4,
   "metadata": {},
   "outputs": [],
   "source": [
    "# If you're reading this, this code isn't quite 100% ready for use. \n",
    "# Feel free to look at it anyways though.\n",
    "\n",
    "# Import libraries\n",
    "\n",
    "import matplotlib.path as mpath\n",
    "import matplotlib.pyplot as plt\n",
    "import numpy as np\n",
    "import math"
   ]
  },
  {
   "cell_type": "code",
   "execution_count": 50,
   "metadata": {},
   "outputs": [],
   "source": [
    "# Define blending funcitons from ioflo\n",
    "\n",
    "def blend0(d = 0.0, u = 0.25, s = 0.75): #trapezoidal\n",
    "    d = float(abs(d))\n",
    "    u = float(abs(u))\n",
    "    s = float(abs(s))\n",
    "    v = d - u #offset by radius\n",
    "\n",
    "    if v >= s:  #first so if s == 0 catches here so no divide by zero below\n",
    "        b = 0.0\n",
    "    elif v <= 0.0:\n",
    "        b = 1.0\n",
    "    else: # 0 < v < s\n",
    "        b = 1.0 - (v / s)\n",
    "    return b\n"
   ]
  },
  {
   "cell_type": "code",
   "execution_count": 52,
   "metadata": {},
   "outputs": [],
   "source": [
    "def testPlot(plotFunc, minX = -1, maxX = 1, steps = 21):\n",
    "    out = []\n",
    "    i = np.linspace(minX,maxX,steps)\n",
    "    for x in range(len(i)):\n",
    "        b = plotFunc(i[x])\n",
    "        out.append((round(i[x],3), round(b,3)))\n",
    "\n",
    "    yCoord = []\n",
    "    xCoord = []\n",
    "    for i in range(len(out)):\n",
    "        xCoord.append(out[i][0])\n",
    "        yCoord.append(out[i][1])\n",
    "    plt.plot(xCoord, yCoord)\n",
    "    return 0"
   ]
  },
  {
   "cell_type": "code",
   "execution_count": 57,
   "metadata": {},
   "outputs": [],
   "source": [
    "def weightedAveragingOperator(weightList, valList, importanceList = None):\n",
    "    for i in range(len(weightList)):\n",
    "        w = weightlist[i]\n",
    "        v = valList[i]\n",
    "        if importanceList == None:\n",
    "            denom += w*v\n",
    "            numer += w\n",
    "        else:\n",
    "            denom += w*v*importanceList[i]\n",
    "            numer += w\n",
    "    if numer != 0:\n",
    "        d = denom / numer\n",
    "        return d\n",
    "    return 0\n",
    "\n",
    "def orWeAvOp(weightList, valList, importanceList = None):\n",
    "    for i in range(len(weightList)):\n",
    "        w = weightList[i]\n",
    "        v = valList[i]\n",
    "        if importanceList != None:\n",
    "            imp = importanceList[i]\n",
    "        else:\n",
    "            imp = 1\n",
    "        d += w*v*imp\n",
    "    return d"
   ]
  },
  {
   "cell_type": "code",
   "execution_count": 54,
   "metadata": {},
   "outputs": [
    {
     "data": {
      "text/plain": [
       "0"
      ]
     },
     "execution_count": 54,
     "metadata": {},
     "output_type": "execute_result"
    },
    {
     "data": {
      "image/png": "[encoded data removed]",
      "text/plain": [
       "<matplotlib.figure.Figure at 0x10b2ed320>"
      ]
     },
     "metadata": {},
     "output_type": "display_data"
    }
   ],
   "source": [
    "#testPlot(blend0)"
   ]
  }
 ],
 "metadata": {
  "kernelspec": {
   "display_name": "Python 3",
   "language": "python",
   "name": "python3"
  },
  "language_info": {
   "codemirror_mode": {
    "name": "ipython",
    "version": 3
   },
   "file_extension": ".py",
   "mimetype": "text/x-python",
   "name": "python",
   "nbconvert_exporter": "python",
   "pygments_lexer": "ipython3",
   "version": "3.6.4"
  }
 },
 "nbformat": 4,
 "nbformat_minor": 2
}

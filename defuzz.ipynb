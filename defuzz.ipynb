{
 "cells": [
  {
   "cell_type": "code",
   "execution_count": 72,
   "metadata": {},
   "outputs": [],
   "source": [
    "# Import libraries\n",
    "\n",
    "import matplotlib.path as mpath\n",
    "import matplotlib.pyplot as plt\n",
    "\n",
    "import numpy as np\n",
    "import math"
   ]
  },
  {
   "cell_type": "code",
   "execution_count": 55,
   "metadata": {},
   "outputs": [],
   "source": [
    "# Define defuzzification center mapping function\n",
    "\n",
    "def centerMap(setA, setB):\n",
    "    if len(setA) != len(setB):\n",
    "        print(\"Sets must have equal lengths\")\n",
    "        return 0\n",
    "    centerMap = 0\n",
    "    aB = 0\n",
    "    aC = 0\n",
    "    for i in range(len(setA)):\n",
    "        aB += ((i+1) * (setA[i] + setB[i]))\n",
    "        aC += (setA[i] + setB[i])\n",
    "    if aC == 0:\n",
    "        return 0\n",
    "    centerMap = aB / aC\n",
    "    \n",
    "    return centerMap\n",
    "\n",
    "def meanCentroids(setA, setB):\n",
    "    centroidA = 0\n",
    "    centroidB = 0\n",
    "    a = 0\n",
    "    b = 0\n",
    "    \n",
    "    for i in range(len(setA)):\n",
    "        a += ((i+1) * setA[i])\n",
    "        b += setA[i]\n",
    "    if b == 0:\n",
    "        centroidA = 0\n",
    "    else:\n",
    "        centroidA = a / b\n",
    "        \n",
    "    a = 0\n",
    "    b = 0\n",
    "    for i in range(len(setB)):\n",
    "        a += ((i+1) * setB[i])\n",
    "        b += setB[i]\n",
    "    if b == 0:\n",
    "        centroidB = 0\n",
    "    else:\n",
    "        centroidB = a / b\n",
    "        \n",
    "    return (centroidA + centroidB) / 2\n",
    "\n",
    "def meanOfMaxima(setA, setB):\n",
    "    setC = []\n",
    "    maxSet = 0\n",
    "    jVal = 0\n",
    "    kVal = 0\n",
    "    if len(setA) != len(setB):\n",
    "        print(\"Sets must have equal lengths\")\n",
    "        return 0\n",
    "    for i in range(len(setA)):\n",
    "        iVal = max(setA[i], setB[i])\n",
    "        setC.append(iVal)\n",
    "        if iVal > maxSet:\n",
    "            maxSet = max(maxSet, iVal)\n",
    "            jVal = i+1\n",
    "            kVal = 1\n",
    "        elif iVal == maxSet:\n",
    "            jVal += i+1\n",
    "            kVal += 1\n",
    "            \n",
    "    return jVal / kVal\n",
    "\n",
    "def centerOfArea(setA, setB):\n",
    "    maxSet = 0\n",
    "    jVal = 0\n",
    "    kVal = 0\n",
    "    if len(setA) != len(setB):\n",
    "        print(\"Sets must have equal lengths\")\n",
    "        return 0\n",
    "    for i in range(len(setA)):\n",
    "        maxSet = max(setA[i], setB[i])\n",
    "        jVal += (i+1) * maxSet\n",
    "        kVal += maxSet\n",
    "    return jVal / kVal"
   ]
  },
  {
   "cell_type": "code",
   "execution_count": 56,
   "metadata": {},
   "outputs": [
    {
     "name": "stdout",
     "output_type": "stream",
     "text": [
      "6.362608695652174\n"
     ]
    }
   ],
   "source": [
    "# Example of defuzzification of two sets using center mapping\n",
    "\n",
    "# Create some data\n",
    "setA = [0, 0.5, 1.0, 1.0, 1.0, 0.75, 0.5, 0.25, 0, 0, 0, 0]\n",
    "setB = [0, 0, 0, 0.33, 0.67, 1.0, 1.0, 1.0, 1.0, 1.0, 0.5, 0]\n",
    "\n",
    "defuzz = centerMap(setA, setB)\n",
    "print(defuzz)"
   ]
  },
  {
   "cell_type": "code",
   "execution_count": 57,
   "metadata": {},
   "outputs": [
    {
     "name": "stdout",
     "output_type": "stream",
     "text": [
      "6.159230769230769\n"
     ]
    }
   ],
   "source": [
    "# Example of mean centroid defuzzification of the same two sets\n",
    "\n",
    "centro = meanCentroids(setA, setB)\n",
    "print(centro)"
   ]
  },
  {
   "cell_type": "code",
   "execution_count": 58,
   "metadata": {},
   "outputs": [
    {
     "name": "stdout",
     "output_type": "stream",
     "text": [
      "6.5\n"
     ]
    }
   ],
   "source": [
    "# Example of mean of maxima defuzzification of the same two sets\n",
    "\n",
    "maxima = meanOfMaxima(setA, setB)\n",
    "print(maxima)"
   ]
  },
  {
   "cell_type": "code",
   "execution_count": 59,
   "metadata": {},
   "outputs": [
    {
     "name": "stdout",
     "output_type": "stream",
     "text": [
      "6.5\n"
     ]
    }
   ],
   "source": [
    "# Example of mean of maxima defuzzification of the same two sets\n",
    "\n",
    "centArea = centerOfArea(setA, setB)\n",
    "print(centArea)"
   ]
  },
  {
   "cell_type": "code",
   "execution_count": null,
   "metadata": {},
   "outputs": [],
   "source": []
  }
 ],
 "metadata": {
  "kernelspec": {
   "display_name": "Python 3",
   "language": "python",
   "name": "python3"
  },
  "language_info": {
   "codemirror_mode": {
    "name": "ipython",
    "version": 3
   },
   "file_extension": ".py",
   "mimetype": "text/x-python",
   "name": "python",
   "nbconvert_exporter": "python",
   "pygments_lexer": "ipython3",
   "version": "3.6.4"
  }
 },
 "nbformat": 4,
 "nbformat_minor": 2
}
